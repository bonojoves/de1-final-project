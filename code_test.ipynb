{
 "cells": [
  {
   "cell_type": "code",
   "execution_count": null,
   "metadata": {},
   "outputs": [],
   "source": [
    "#  !pip install meteostat\n",
    "#  !pip install fastquant\n",
    "#  !pip install feedparser"
   ]
  },
  {
   "cell_type": "code",
   "execution_count": 5,
   "metadata": {},
   "outputs": [],
   "source": [
    "# imports\n",
    "\n",
    "import pandas as pd\n",
    "from datetime import datetime\n",
    "import os\n",
    "\n",
    "## Weather\n",
    "from meteostat import Point, Daily\n",
    "\n",
    "## NIKL prices\n",
    "from fastquant import get_pse_data\n",
    "\n",
    "## feed parsing news - economic news, etc\n",
    "import feedparser\n",
    "\n",
    "## import spacy for transformation\n",
    "import spacy\n",
    "import ast"
   ]
  },
  {
   "cell_type": "markdown",
   "metadata": {},
   "source": [
    "## WEATHER"
   ]
  },
  {
   "cell_type": "code",
   "execution_count": 2,
   "metadata": {},
   "outputs": [],
   "source": [
    "# Set time period\n",
    "start = datetime(2020, 1, 1)\n",
    "end = datetime.now()\n",
    "\n",
    "# Create Point for Cagayan De Oro - Surigao weather station not returning anything\n",
    "cdo = Point(8.4542, 124.6319)\n",
    "\n",
    "# Get daily data for 2018\n",
    "data = Daily(cdo, start, end)\n",
    "data = data.fetch()\n",
    "\n",
    "# Save the data to .csv\n",
    "data.to_csv(f\"weather-data-{end.strftime('%m-%d-%Y')}.csv\")"
   ]
  },
  {
   "cell_type": "markdown",
   "metadata": {},
   "source": [
    "## NIKL prices"
   ]
  },
  {
   "cell_type": "code",
   "execution_count": 4,
   "metadata": {},
   "outputs": [
    {
     "name": "stderr",
     "output_type": "stream",
     "text": [
      "190it [01:59,  1.59it/s]\n"
     ]
    }
   ],
   "source": [
    "# get data\n",
    "data = get_pse_data(\"JFC\", start.strftime('%Y-%m-%d'), end.strftime('%Y-%m-%d'))\n",
    "\n",
    "# save data\n",
    "data.to_csv(f\"NIKL-data-{end.strftime('%m-%d-%Y')}.csv\")"
   ]
  },
  {
   "cell_type": "markdown",
   "metadata": {},
   "source": [
    "## RSS Feeds"
   ]
  },
  {
   "cell_type": "code",
   "execution_count": 6,
   "metadata": {},
   "outputs": [],
   "source": [
    "def upload_formatted_rss_feed(feed, feed_name):\n",
    "    feed = feedparser.parse(feed)\n",
    "    df = pd.DataFrame(feed['entries'])\n",
    "    df.to_csv(f\"{feed_name}-data-{end.strftime('%m-%d-%Y')}.csv\")"
   ]
  },
  {
   "cell_type": "code",
   "execution_count": 7,
   "metadata": {},
   "outputs": [],
   "source": [
    "upload_formatted_rss_feed(\"https://businessmirror.com.ph/feed/\", \"business_mirror\")"
   ]
  },
  {
   "cell_type": "code",
   "execution_count": 8,
   "metadata": {},
   "outputs": [],
   "source": [
    "upload_formatted_rss_feed(\"https://www.bworldonline.com/feed/\", \"business_world\")"
   ]
  },
  {
   "cell_type": "markdown",
   "metadata": {},
   "source": [
    "# ACTION PLAN\n",
    "### Nickel in the PH - mining affected by weather + get business news due to some mines closing temporarily @ height of pandemic\n",
    "* Weather - meteostat\n",
    "* NIKL prices - fastquant\n",
    "* News - RSS feeds of business mirror & business world - perform NER and similar activity as Sprint 3"
   ]
  },
  {
   "cell_type": "markdown",
   "metadata": {},
   "source": [
    "### Spacy"
   ]
  },
  {
   "cell_type": "code",
   "execution_count": null,
   "metadata": {},
   "outputs": [],
   "source": [
    "# @task(task_id='spacy_ner')\n",
    "def spacy_ner(ds=None, **kwargs):\n",
    "    nlp = spacy.load(\"/model/en_core_web_sm/en_core_web_sm-3.3.0\") # import this to the ff. directory\n",
    "    \n",
    "    def ner(text):\n",
    "        doc = nlp(text)\n",
    "        # print(\"Noun phrases:\", [chunk.text for chunk in doc.noun_chunks])\n",
    "        # print(\"Verbs:\", [token.lemma_ for token in doc if token.pos_ == \"VERB\"])\n",
    "        ner = {}\n",
    "        for entity in doc.ents:\n",
    "            ner[entity.text] = entity.label_\n",
    "            print(entity.text, entity.label_)\n",
    "        return ner\n",
    "\n",
    "    files = os.listdir(DATA_PATH)\n",
    "    for file in files:\n",
    "        outfile = f\"{DATA_PATH}{file}\"\n",
    "        if not outfile.endswith('.csv'):\n",
    "            continue\n",
    "        \n",
    "        try:\n",
    "            df = pd.read_csv(outfile)\n",
    "        \n",
    "            ################################# TODO: IMPORTANT #########################################\n",
    "            # you need to find the column where the text/content is located e.g. 'summary' or 'content'\n",
    "            # and add a conditional logic below\n",
    "            ###########################################################################################\n",
    "            if outfile.startswith(f'{DATA_PATH}business_world'):\n",
    "                df['NER'] = df['content'].apply(lambda x: ner(x))\n",
    "\n",
    "            else:\n",
    "                df['NER'] = df['summary'].apply(lambda x: ner(x))\n",
    "\n",
    "            ###########################################################################################\n",
    "\n",
    "            df['NER_dict'] = df['NER'].apply(lambda x: ast.literal_eval(str(x)))\n",
    "            def count_ent(dic):\n",
    "                empty = {}\n",
    "                for v in dic.values():\n",
    "                    if v in empty.keys():\n",
    "                        empty[v] += 1\n",
    "                    else:\n",
    "                        empty[v] = 1 \n",
    "                return empty\n",
    "            df[\"ent_count\"] = df['NER_dict'].apply(lambda x: count_ent(x))\n",
    "\n",
    "            df.to_csv(outfile, index=False)\n",
    "\n",
    "        except: pass"
   ]
  }
 ],
 "metadata": {
  "kernelspec": {
   "display_name": "Python 3.8.3 ('base')",
   "language": "python",
   "name": "python3"
  },
  "language_info": {
   "codemirror_mode": {
    "name": "ipython",
    "version": 3
   },
   "file_extension": ".py",
   "mimetype": "text/x-python",
   "name": "python",
   "nbconvert_exporter": "python",
   "pygments_lexer": "ipython3",
   "version": "3.8.3"
  },
  "orig_nbformat": 4,
  "vscode": {
   "interpreter": {
    "hash": "f08154012ddadd8e950e6e9e035c7a7b32c136e7647e9b7c77e02eb723a8bedb"
   }
  }
 },
 "nbformat": 4,
 "nbformat_minor": 2
}
